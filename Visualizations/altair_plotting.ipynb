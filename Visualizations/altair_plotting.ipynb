{
 "cells": [
  {
   "cell_type": "code",
   "execution_count": null,
   "metadata": {},
   "outputs": [
    {
     "ename": "",
     "evalue": "",
     "output_type": "error",
     "traceback": [
      "\u001b[1;31mLes cellules en cours d’exécution avec /usr/local/bin/python3.11 nécessitent ipykernel package.\n",
      "\u001b[1;31mExécutez la commande suivante pour installer 'ipykernel' dans l’environnement Python. \n",
      "\u001b[1;31mCommande : '/usr/local/bin/python3.11 -m pip install ipykernel -U --user --force-reinstall'"
     ]
    }
   ],
   "source": [
    "import altair as alt\n",
    "from vega_datasets import data"
   ]
  },
  {
   "cell_type": "code",
   "execution_count": null,
   "metadata": {},
   "outputs": [],
   "source": [
    "iris = data.iris()\n",
    "iris.head()"
   ]
  },
  {
   "cell_type": "code",
   "execution_count": null,
   "metadata": {},
   "outputs": [],
   "source": [
    "alt.Chart(iris).mark_circle(size=60).encode(\n",
    "    x=\"sepalLength\",\n",
    "    y=\"sepalWidth\",\n",
    "    color=\"species\",\n",
    "    tooltip=[\"sepalLength\", \"sepalWidth\", \"petalLength\", \"petalWidth\"]\n",
    ").interactive()"
   ]
  },
  {
   "cell_type": "code",
   "execution_count": null,
   "metadata": {},
   "outputs": [],
   "source": [
    "stocks = data.stocks()\n",
    "stocks.head()"
   ]
  },
  {
   "cell_type": "code",
   "execution_count": null,
   "metadata": {},
   "outputs": [],
   "source": [
    "alt.Chart(stocks[stocks[\"symbol\"] != \"GOOG\"]).mark_line().encode(\n",
    "    x=alt.X(\"year(date):T\", title=\"Year\", bin=True),\n",
    "    y=\"average(price)\",\n",
    "    color=\"symbol\",\n",
    ")"
   ]
  }
 ],
 "metadata": {
  "kernelspec": {
   "display_name": "amusive-blogging-n-coding-u72LGqej-py3.8",
   "language": "python",
   "name": "python3"
  },
  "language_info": {
   "name": "python",
   "version": "3.8.0 (default, Nov  6 2019, 15:49:01) \n[Clang 4.0.1 (tags/RELEASE_401/final)]"
  },
  "orig_nbformat": 4,
  "vscode": {
   "interpreter": {
    "hash": "335da5445bb9a0de01ba9c6ab14e4471a845550dd1888d0179898dba3954f3be"
   }
  }
 },
 "nbformat": 4,
 "nbformat_minor": 2
}
