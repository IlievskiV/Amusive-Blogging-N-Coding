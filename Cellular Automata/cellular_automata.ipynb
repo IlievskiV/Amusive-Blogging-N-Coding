{
 "cells": [
  {
   "cell_type": "markdown",
   "metadata": {},
   "source": [
    "# Cellular Automata"
   ]
  },
  {
   "cell_type": "code",
   "execution_count": 1,
   "metadata": {},
   "outputs": [],
   "source": [
    "# import libraries\n",
    "import numpy as np\n",
    "import matplotlib.pyplot as plt\n",
    "import matplotlib.animation as animation\n",
    "\n",
    "# ignore warnings\n",
    "import warnings\n",
    "warnings.filterwarnings(\"ignore\")"
   ]
  },
  {
   "cell_type": "markdown",
   "metadata": {},
   "source": [
    "## Implementation"
   ]
  },
  {
   "cell_type": "code",
   "execution_count": 2,
   "metadata": {},
   "outputs": [],
   "source": [
    "powers_of_two = np.array([[4], [2], [1]])  # shape (3, 1)\n",
    "\n",
    "def step(x, rule_binary):\n",
    "    \"\"\"Makes one step in the cellular automaton.\n",
    "\n",
    "    Args:\n",
    "        x (np.array): current state of the automaton\n",
    "        rule_binary (np.array): the update rule\n",
    "\n",
    "    Returns:\n",
    "        np.array: updated state of the automaton\n",
    "    \"\"\"\n",
    "    x_shift_right = np.roll(x, 1)  # circular shift to right\n",
    "    x_shift_left = np.roll(x, -1)  # circular shift to left\n",
    "    y = np.vstack((x_shift_right, x, x_shift_left)).astype(np.int8)  # stack row-wise, shape (3, cols)\n",
    "    z = np.sum(powers_of_two * y, axis=0).astype(np.int8)  # LCR pattern as number\n",
    "\n",
    "    return rule_binary[7 - z]"
   ]
  },
  {
   "cell_type": "code",
   "execution_count": 3,
   "metadata": {},
   "outputs": [],
   "source": [
    "def cellular_automaton(rule_number, size, steps,\n",
    "                       init_cond='random', impulse_pos='center'):\n",
    "    \"\"\"Generate the state of an elementary cellular automaton after a pre-determined\n",
    "    number of steps starting from some random state.\n",
    "\n",
    "    Args:\n",
    "        rule_number (int): the number of the update rule to use\n",
    "        size (int): number of cells in the row\n",
    "        steps (int): number of steps to evolve the automaton\n",
    "        init_cond (str): either `random` or `impulse`. If `random` every cell\n",
    "        in the row is activated with prob. 0.5. If `impulse` only one cell\n",
    "        is activated.\n",
    "        impulse_pos (str): if `init_cond` is `impulse`, activate the\n",
    "        left-most, central or right-most cell.\n",
    "\n",
    "    Returns:\n",
    "        np.array: final state of the automaton\n",
    "    \"\"\"\n",
    "    assert 0 <= rule_number <= 255\n",
    "    assert init_cond in ['random', 'impulse']\n",
    "    assert impulse_pos in ['left', 'center', 'right']\n",
    "    \n",
    "    rule_binary_str = np.binary_repr(rule_number, width=8)\n",
    "    rule_binary = np.array([int(ch) for ch in rule_binary_str], dtype=np.int8)\n",
    "    x = np.zeros((steps, size), dtype=np.int8)\n",
    "    \n",
    "    if init_cond == 'random':  # random init of the first step\n",
    "        x[0, :] = np.array(np.random.rand(size) < 0.5, dtype=np.int8)\n",
    "\n",
    "    if init_cond == 'impulse':  # starting with an initial impulse\n",
    "        if impulse_pos == 'left':\n",
    "            x[0, 0] = 1\n",
    "        elif impulse_pos == 'right':\n",
    "            x[0, size - 1] = 1\n",
    "        else:\n",
    "            x[0, size // 2] = 1\n",
    "    \n",
    "    for i in range(steps - 1):\n",
    "        x[i + 1, :] = step(x[i, :], rule_binary)\n",
    "    \n",
    "    return x"
   ]
  },
  {
   "cell_type": "markdown",
   "metadata": {},
   "source": [
    "## Visualization"
   ]
  },
  {
   "cell_type": "code",
   "execution_count": 4,
   "metadata": {},
   "outputs": [],
   "source": [
    "rule_number = 60  # select the update rule\n",
    "size = 100  # number of cells in one row\n",
    "steps = 63  # number of time steps\n",
    "init_cond='impulse'  # start with only one cell\n",
    "impulse_pos='left'  # start with the left-most cell\n",
    "\n",
    "x = cellular_automaton(rule_number, size, steps, init_cond, impulse_pos)"
   ]
  },
  {
   "cell_type": "code",
   "execution_count": 5,
   "metadata": {},
   "outputs": [
    {
     "data": {
      "image/png": "[encoded data removed]",
      "text/plain": [
       "<Figure size 720x720 with 1 Axes>"
      ]
     },
     "metadata": {
      "needs_background": "light"
     },
     "output_type": "display_data"
    }
   ],
   "source": [
    "fig = plt.figure(figsize=(10, 10))\n",
    "\n",
    "ax = plt.axes()\n",
    "ax.set_axis_off()\n",
    "\n",
    "ax.imshow(x, interpolation='none',cmap='RdPu')\n",
    "plt.savefig('elementary_cellular_automaton.png', dpi=300, bbox_inches='tight')"
   ]
  },
  {
   "cell_type": "markdown",
   "metadata": {},
   "source": [
    "## Animation"
   ]
  },
  {
   "cell_type": "code",
   "execution_count": 6,
   "metadata": {},
   "outputs": [],
   "source": [
    "rule_number = 90  # select the update rule\n",
    "size = 100  # number of cells in one row\n",
    "steps = 500  # number of time steps\n",
    "init_cond='impulse'  # start with only one cell\n",
    "impulse_pos='center'  # start with the central cell\n",
    "\n",
    "x = cellular_automaton(rule_number, size, steps, init_cond, impulse_pos)"
   ]
  },
  {
   "cell_type": "code",
   "execution_count": 7,
   "metadata": {},
   "outputs": [
    {
     "data": {
      "image/png": "[encoded data removed]",
      "text/plain": [
       "<Figure size 720x720 with 1 Axes>"
      ]
     },
     "metadata": {
      "needs_background": "light"
     },
     "output_type": "display_data"
    }
   ],
   "source": [
    "steps_to_show = 100  # number of steps to show in the animation window\n",
    "iterations_per_frame = 1  # how many steps to show per frame\n",
    "frames = int(steps // iterations_per_frame)  # number of frames in the animation\n",
    "interval=50  # interval in ms between consecutive frames\n",
    "\n",
    "fig = plt.figure(figsize=(10, 10))\n",
    "\n",
    "ax = plt.axes()\n",
    "ax.set_axis_off()\n",
    "\n",
    "def animate(i):\n",
    "    ax.clear()  # clear the plot\n",
    "    ax.set_axis_off()  # disable axis\n",
    "    \n",
    "    Y = np.zeros((steps_to_show, size), dtype=np.int8)  # initialize with all zeros\n",
    "    upper_boundary = (i + 1) * iterations_per_frame  # window upper boundary\n",
    "    lower_boundary = 0 if upper_boundary <= steps_to_show else upper_boundary - steps_to_show  # window lower bound.\n",
    "    for t in range(lower_boundary, upper_boundary):  # assign the values\n",
    "        Y[t - lower_boundary, :] = x[t, :]\n",
    "    \n",
    "    img = ax.imshow(Y, interpolation='none',cmap='RdPu')\n",
    "    plt.gcf().text(0.15, 0.1, 'by Vladimir Ilievski', fontsize=18, fontfamily='Verdana')\n",
    "    return [img]\n",
    "    \n",
    "# call the animator\n",
    "anim = animation.FuncAnimation(fig, animate, frames=frames, interval=50, blit=True)\n",
    "anim.save('elementary_cellular_automaton.gif', writer='imagemagick') "
   ]
  },
  {
   "cell_type": "code",
   "execution_count": null,
   "metadata": {},
   "outputs": [],
   "source": []
  }
 ],
 "metadata": {
  "kernelspec": {
   "display_name": "Python 3",
   "language": "python",
   "name": "python3"
  },
  "language_info": {
   "codemirror_mode": {
    "name": "ipython",
    "version": 3
   },
   "file_extension": ".py",
   "mimetype": "text/x-python",
   "name": "python",
   "nbconvert_exporter": "python",
   "pygments_lexer": "ipython3",
   "version": "3.6.12"
  }
 },
 "nbformat": 4,
 "nbformat_minor": 4
}
